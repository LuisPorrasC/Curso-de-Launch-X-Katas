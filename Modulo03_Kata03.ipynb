{
 "cells": [
  {
   "cell_type": "markdown",
   "metadata": {},
   "source": [
    "# Instrucciones (if, else y elif)"
   ]
  },
  {
   "cell_type": "code",
   "execution_count": 3,
   "metadata": {},
   "outputs": [
    {
     "name": "stdout",
     "output_type": "stream",
     "text": [
      "Peligro! Se acerca un asteroide a una velocidad peligrosa\n"
     ]
    }
   ],
   "source": [
    "# Un asteroide se acerca y viaja a una velocidad de 49 km/s\n",
    "asteroide = 49\n",
    "if asteroide > 25:\n",
    "    print('Peligro! Se acerca un asteroide a una velocidad peligrosa')\n",
    "else:\n",
    "    print('Asteroide acercandose a velocidad baja')"
   ]
  },
  {
   "cell_type": "code",
   "execution_count": 25,
   "metadata": {},
   "outputs": [
    {
     "name": "stdout",
     "output_type": "stream",
     "text": [
      "¡No hay nada que ver!\n"
     ]
    }
   ],
   "source": [
    "# Un asteroide se acerca, y viaja a una velocidad de 49 km/s\n",
    "asteroide = 19\n",
    "if asteroide >= 20:\n",
    "    print('¡Mira! ¡Hay un asteroide en el cielo!')\n",
    "elif asteroide == 20:\n",
    "    print('¡Mira!¡Hay un asteroide en el cielo!')\n",
    "else:\n",
    "    print('¡No hay nada que ver!')"
   ]
  },
  {
   "cell_type": "markdown",
   "metadata": {},
   "source": [
    "# Operadores \"and\" y \"or\" "
   ]
  },
  {
   "cell_type": "code",
   "execution_count": 47,
   "metadata": {},
   "outputs": [
    {
     "name": "stdout",
     "output_type": "stream",
     "text": [
      "¡Mira! ¡Hay un asteroide en el cielo!\n"
     ]
    }
   ],
   "source": [
    "velocidad_asteroide = 25\n",
    "tamaño_asteroide = 5\n",
    "if velocidad_asteroide > 25 and tamaño_asteroide > 25:\n",
    "    print('¡Alerta! !Un asteroide muy peligroso se acerca a la Tierra!')\n",
    "elif velocidad_asteroide >= 20:\n",
    "    print('¡Mira! ¡Hay un asteroide en el cielo!')\n",
    "elif tamaño_asteroide < 25:\n",
    "    print('No hay nada que ver aquí')\n",
    "else:\n",
    "    print('No hay nada que ver aquí')"
   ]
  }
 ],
 "metadata": {
  "interpreter": {
   "hash": "cf66f9ca4c07b5536327e56f1285f2e1c448e62687323e0b74b4f8081b2d8d6f"
  },
  "kernelspec": {
   "display_name": "Python 3.9.10 64-bit (windows store)",
   "language": "python",
   "name": "python3"
  },
  "language_info": {
   "codemirror_mode": {
    "name": "ipython",
    "version": 3
   },
   "file_extension": ".py",
   "mimetype": "text/x-python",
   "name": "python",
   "nbconvert_exporter": "python",
   "pygments_lexer": "ipython3",
   "version": "3.9.10"
  },
  "orig_nbformat": 4
 },
 "nbformat": 4,
 "nbformat_minor": 2
}
