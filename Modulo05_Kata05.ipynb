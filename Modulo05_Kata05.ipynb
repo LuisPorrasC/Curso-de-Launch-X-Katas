{
 "cells": [
  {
   "cell_type": "code",
   "execution_count": 14,
   "metadata": {},
   "outputs": [
    {
     "name": "stdout",
     "output_type": "stream",
     "text": [
      "628949330\n",
      "390577533.93\n"
     ]
    }
   ],
   "source": [
    "primer_planeta = 149597870\n",
    "segundo_planeta = 778547200\n",
    "\n",
    "distancia_km = segundo_planeta - primer_planeta\n",
    "print(distancia_km)\n",
    "distancia_mi = distancia_km * 0.621\n",
    "print(distancia_mi)"
   ]
  },
  {
   "cell_type": "code",
   "execution_count": 16,
   "metadata": {},
   "outputs": [
    {
     "name": "stdout",
     "output_type": "stream",
     "text": [
      "0\n",
      "0.0\n"
     ]
    }
   ],
   "source": [
    "primer_planeta = input('Introduzca la distancia al sol para el primer planeta en Kilometros')\n",
    "segundo_planeta = input('Introduzca la distancia al el sol para el segundo planeta en Kilometros')\n",
    "\n",
    "primer_planeta = int(primer_planeta)\n",
    "segundo_planeta = int(segundo_planeta) \n",
    "\n",
    "distancia_km = segundo_planeta - primer_planeta\n",
    "print(distancia_km)\n",
    "\n",
    "distancia_mi = distancia_km * 0.621\n",
    "print(abs(distancia_mi))"
   ]
  }
 ],
 "metadata": {
  "interpreter": {
   "hash": "cf66f9ca4c07b5536327e56f1285f2e1c448e62687323e0b74b4f8081b2d8d6f"
  },
  "kernelspec": {
   "display_name": "Python 3.9.10 64-bit (windows store)",
   "language": "python",
   "name": "python3"
  },
  "language_info": {
   "codemirror_mode": {
    "name": "ipython",
    "version": 3
   },
   "file_extension": ".py",
   "mimetype": "text/x-python",
   "name": "python",
   "nbconvert_exporter": "python",
   "pygments_lexer": "ipython3",
   "version": "3.9.10"
  },
  "orig_nbformat": 4
 },
 "nbformat": 4,
 "nbformat_minor": 2
}
